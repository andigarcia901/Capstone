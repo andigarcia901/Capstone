{
 "cells": [
  {
   "cell_type": "code",
   "execution_count": 1,
   "metadata": {},
   "outputs": [],
   "source": [
    "import pandas as pd"
   ]
  },
  {
   "attachments": {},
   "cell_type": "markdown",
   "metadata": {},
   "source": [
    "### Excel sheet 07.10 \"Trip Characteristics\""
   ]
  },
  {
   "cell_type": "code",
   "execution_count": 2,
   "metadata": {},
   "outputs": [
    {
     "name": "stdout",
     "output_type": "stream",
     "text": [
      "                             Unnamed: 0    Unnamed: 1    Unnamed: 2  \\\n",
      "0                                   NaN           NaN           NaN   \n",
      "1                                   NaN           NaN           NaN   \n",
      "2                                   NaN           NaN           NaN   \n",
      "3                                   NaN           NaN           NaN   \n",
      "4                                   NaN           NaN           NaN   \n",
      "5                                   NaN           NaN           NaN   \n",
      "6                                   NaN           NaN           NaN   \n",
      "7                                   NaN           NaN           NaN   \n",
      "8                                   NaN           NaN           NaN   \n",
      "9                                   NaN  2.065689e+06  6.656779e+06   \n",
      "10                                  NaN           NaN           NaN   \n",
      "11                  Purpose of visit 1/           NaN           NaN   \n",
      "12                       Pleasure (net)  1.585412e+06  5.734311e+06   \n",
      "13                             Vacation  1.537844e+06  5.515116e+06   \n",
      "14                            Honeymoon  4.746113e+04  2.338577e+05   \n",
      "15                  Wedding/Get Married  1.430059e+04  4.534982e+04   \n",
      "16  Meetings, conventions, incentive 1/  9.937194e+04  9.538994e+04   \n",
      "17                Convention/conference  6.325789e+04  4.306084e+04   \n",
      "18                    Corporate meeting  2.147340e+04  2.817941e+04   \n",
      "19                            Incentive  1.790867e+04  2.782640e+04   \n",
      "20                       Other business  9.564378e+04  1.432338e+05   \n",
      "21           Visit friends or relatives  3.149518e+05  8.232686e+05   \n",
      "22               Government or military  3.497155e+04  5.663027e+04   \n",
      "23                        Attend school  6.972997e+03  1.499786e+04   \n",
      "24                          Sport event  1.364241e+04  1.833693e+04   \n",
      "25                                  NaN           NaN           NaN   \n",
      "26                      Traveler method           NaN           NaN   \n",
      "27                           Group tour  4.010146e+04  8.351203e+04   \n",
      "28                              Package  2.425189e+05  9.192191e+05   \n",
      "29                     True independent  1.805154e+06  5.694152e+06   \n",
      "30                                  NaN           NaN           NaN   \n",
      "31                       Accommodations           NaN           NaN   \n",
      "32                                Hotel  9.733389e+05  3.461805e+06   \n",
      "33                           Hotel only  8.181045e+05  3.010088e+06   \n",
      "34                                Condo  3.695491e+05  1.286219e+06   \n",
      "35                           Condo only  2.994723e+05  1.057556e+06   \n",
      "36                            Timeshare  1.882075e+05  6.757413e+05   \n",
      "37                       Timeshare only  1.491365e+05  5.566026e+05   \n",
      "38                         Rental house  2.560914e+05  7.979448e+05   \n",
      "39                               Hostel  1.676442e+04  3.261810e+04   \n",
      "40                            Camp site  1.679986e+04  3.256271e+04   \n",
      "41                      Bed & breakfast  2.735834e+04  6.709277e+04   \n",
      "42                          Cruise ship  2.192602e+04  1.723226e+03   \n",
      "43                   Friends, relatives  3.431115e+05  7.959866e+05   \n",
      "\n",
      "       Unnamed: 3     Unnamed: 4  \n",
      "0             NaN            NaN  \n",
      "1             NaN            NaN  \n",
      "2             NaN            NaN  \n",
      "3             NaN            NaN  \n",
      "4             NaN            NaN  \n",
      "5             NaN            NaN  \n",
      "6             NaN            NaN  \n",
      "7             NaN            NaN  \n",
      "8             NaN            NaN  \n",
      "9        612384.0  120981.000000  \n",
      "10            NaN            NaN  \n",
      "11            NaN            NaN  \n",
      "12  535053.683588   97479.808440  \n",
      "13  493663.237684   92525.661922  \n",
      "14    41520.12573    5031.331542  \n",
      "15    6238.264466     523.977561  \n",
      "16   33069.673806    1853.243024  \n",
      "17   14589.942349     559.668598  \n",
      "18    2922.741449     703.019068  \n",
      "19   16189.623401     624.318168  \n",
      "20    3869.829622    1856.115196  \n",
      "21   25984.270631   14045.000654  \n",
      "22    1966.249914    2980.238670  \n",
      "23    1781.713841     721.719024  \n",
      "24    3279.050518     524.447429  \n",
      "25            NaN            NaN  \n",
      "26            NaN            NaN  \n",
      "27           (NA)    1269.353199  \n",
      "28           (NA)    9615.254535  \n",
      "29           (NA)  110736.352381  \n",
      "30            NaN            NaN  \n",
      "31            NaN            NaN  \n",
      "32  441040.954235   56871.777872  \n",
      "33  397682.842822   50205.465155  \n",
      "34  106933.791697   31549.390794  \n",
      "35   78340.136083   27229.893869  \n",
      "36   29539.361331    9229.778090  \n",
      "37   21556.965541    7342.589221  \n",
      "38    33250.26952    7778.792477  \n",
      "39    3633.115736    1197.613877  \n",
      "40    3251.838926     817.025767  \n",
      "41    6229.677459     542.133851  \n",
      "42    2711.776703     106.911099  \n",
      "43   31259.561674   18756.936990  \n"
     ]
    }
   ],
   "source": [
    "df_10= pd.read_excel(\"section07.xls\", sheet_name=\"07.10\")\n",
    "#(e.g. “A:E” or “A,C,E:F”)\n",
    "print(df_10)"
   ]
  },
  {
   "attachments": {},
   "cell_type": "markdown",
   "metadata": {},
   "source": [
    "Drop empty cells"
   ]
  },
  {
   "cell_type": "code",
   "execution_count": 3,
   "metadata": {},
   "outputs": [
    {
     "data": {
      "text/html": [
       "<div>\n",
       "<style scoped>\n",
       "    .dataframe tbody tr th:only-of-type {\n",
       "        vertical-align: middle;\n",
       "    }\n",
       "\n",
       "    .dataframe tbody tr th {\n",
       "        vertical-align: top;\n",
       "    }\n",
       "\n",
       "    .dataframe thead th {\n",
       "        text-align: right;\n",
       "    }\n",
       "</style>\n",
       "<table border=\"1\" class=\"dataframe\">\n",
       "  <thead>\n",
       "    <tr style=\"text-align: right;\">\n",
       "      <th></th>\n",
       "      <th>Unnamed: 0</th>\n",
       "      <th>Unnamed: 1</th>\n",
       "      <th>Unnamed: 2</th>\n",
       "      <th>Unnamed: 3</th>\n",
       "      <th>Unnamed: 4</th>\n",
       "    </tr>\n",
       "  </thead>\n",
       "  <tbody>\n",
       "    <tr>\n",
       "      <th>12</th>\n",
       "      <td>Pleasure (net)</td>\n",
       "      <td>1.585412e+06</td>\n",
       "      <td>5.734311e+06</td>\n",
       "      <td>535053.683588</td>\n",
       "      <td>97479.808440</td>\n",
       "    </tr>\n",
       "    <tr>\n",
       "      <th>13</th>\n",
       "      <td>Vacation</td>\n",
       "      <td>1.537844e+06</td>\n",
       "      <td>5.515116e+06</td>\n",
       "      <td>493663.237684</td>\n",
       "      <td>92525.661922</td>\n",
       "    </tr>\n",
       "    <tr>\n",
       "      <th>14</th>\n",
       "      <td>Honeymoon</td>\n",
       "      <td>4.746113e+04</td>\n",
       "      <td>2.338577e+05</td>\n",
       "      <td>41520.12573</td>\n",
       "      <td>5031.331542</td>\n",
       "    </tr>\n",
       "    <tr>\n",
       "      <th>15</th>\n",
       "      <td>Wedding/Get Married</td>\n",
       "      <td>1.430059e+04</td>\n",
       "      <td>4.534982e+04</td>\n",
       "      <td>6238.264466</td>\n",
       "      <td>523.977561</td>\n",
       "    </tr>\n",
       "    <tr>\n",
       "      <th>16</th>\n",
       "      <td>Meetings, conventions, incentive 1/</td>\n",
       "      <td>9.937194e+04</td>\n",
       "      <td>9.538994e+04</td>\n",
       "      <td>33069.673806</td>\n",
       "      <td>1853.243024</td>\n",
       "    </tr>\n",
       "  </tbody>\n",
       "</table>\n",
       "</div>"
      ],
      "text/plain": [
       "                             Unnamed: 0    Unnamed: 1    Unnamed: 2  \\\n",
       "12                       Pleasure (net)  1.585412e+06  5.734311e+06   \n",
       "13                             Vacation  1.537844e+06  5.515116e+06   \n",
       "14                            Honeymoon  4.746113e+04  2.338577e+05   \n",
       "15                  Wedding/Get Married  1.430059e+04  4.534982e+04   \n",
       "16  Meetings, conventions, incentive 1/  9.937194e+04  9.538994e+04   \n",
       "\n",
       "       Unnamed: 3    Unnamed: 4  \n",
       "12  535053.683588  97479.808440  \n",
       "13  493663.237684  92525.661922  \n",
       "14    41520.12573   5031.331542  \n",
       "15    6238.264466    523.977561  \n",
       "16   33069.673806   1853.243024  "
      ]
     },
     "execution_count": 3,
     "metadata": {},
     "output_type": "execute_result"
    }
   ],
   "source": [
    "deduped_df_10 = df_10.dropna()\n",
    "deduped_df_10.head()"
   ]
  },
  {
   "cell_type": "code",
   "execution_count": 4,
   "metadata": {},
   "outputs": [
    {
     "name": "stdout",
     "output_type": "stream",
     "text": [
      "         Unnamed: 0     Unnamed: 1    Unnamed: 2     Unnamed: 3    Unnamed: 4\n",
      "32            Hotel  973338.860840  3.461805e+06  441040.954235  56871.777872\n",
      "34            Condo  369549.099056  1.286219e+06  106933.791697  31549.390794\n",
      "36        Timeshare  188207.496859  6.757413e+05   29539.361331   9229.778090\n",
      "38     Rental house  256091.399255  7.979448e+05    33250.26952   7778.792477\n",
      "41  Bed & breakfast   27358.341130  6.709277e+04    6229.677459    542.133851\n"
     ]
    }
   ],
   "source": [
    "dropped_df_10 = deduped_df_10.drop([12,13,14,15,16,17,18,19,20,21,22,23,24,27,28,29,33,35,37,39,40,42,43])\n",
    "print(dropped_df_10)"
   ]
  },
  {
   "attachments": {},
   "cell_type": "markdown",
   "metadata": {},
   "source": [
    "Rename columns and reset index"
   ]
  },
  {
   "cell_type": "code",
   "execution_count": 5,
   "metadata": {},
   "outputs": [
    {
     "name": "stdout",
     "output_type": "stream",
     "text": [
      "              Type  Domestic 2020  Domestic 2021 International 2020  \\\n",
      "0            Hotel  973338.860840   3.461805e+06      441040.954235   \n",
      "1            Condo  369549.099056   1.286219e+06      106933.791697   \n",
      "2        Timeshare  188207.496859   6.757413e+05       29539.361331   \n",
      "3     Rental house  256091.399255   7.979448e+05        33250.26952   \n",
      "4  Bed & breakfast   27358.341130   6.709277e+04        6229.677459   \n",
      "\n",
      "   International 2021  \n",
      "0        56871.777872  \n",
      "1        31549.390794  \n",
      "2         9229.778090  \n",
      "3         7778.792477  \n",
      "4          542.133851  \n"
     ]
    }
   ],
   "source": [
    "dropped_df_10.columns = ['Type', 'Domestic 2020', 'Domestic 2021','International 2020','International 2021']\n",
    "rwdropped_df_10 = dropped_df_10.reset_index(drop=True)\n",
    "print(rwdropped_df_10)"
   ]
  },
  {
   "attachments": {},
   "cell_type": "markdown",
   "metadata": {},
   "source": [
    "### Excel sheet 07.07 \"Visitor arrivals, by area visted\""
   ]
  },
  {
   "cell_type": "code",
   "execution_count": 6,
   "metadata": {},
   "outputs": [
    {
     "name": "stdout",
     "output_type": "stream",
     "text": [
      "         Unnamed: 0      Unnamed: 1      Unnamed: 2      Unnamed: 3  \\\n",
      "0               NaN             NaN             NaN             NaN   \n",
      "1               NaN             NaN             NaN             NaN   \n",
      "2               NaN             NaN             NaN             NaN   \n",
      "3               NaN             NaN             NaN             NaN   \n",
      "4               NaN             NaN             NaN             NaN   \n",
      "5               NaN             NaN            2020             NaN   \n",
      "6      Area visited           Total        Domestic  Inter-national   \n",
      "7               NaN             NaN             NaN             NaN   \n",
      "8      State total   2678072.861446  2065688.861462        612384.0   \n",
      "9               NaN             NaN             NaN             NaN   \n",
      "10             Oahu  1506315.659653   998148.523944   508167.135718   \n",
      "11            Kauai   330262.667066   295842.755924    34419.911142   \n",
      "12      Maui County   807308.419573   706498.581754    100809.83782   \n",
      "13             Maui   792601.693654   693197.320885    99404.372769   \n",
      "14          Molokai    17024.986222    12998.553311     4026.432911   \n",
      "15            Lanai    17924.022199     15488.98345     2435.038749   \n",
      "16    Hawaii Island   493817.021415   402529.632083    91287.389332   \n",
      "17             Hilo   155032.741515   124359.793354    30672.948161   \n",
      "18             Kona   433193.992245   352567.633874    80626.358371   \n",
      "19  One island only  2311925.464449  1797842.149784   514083.314663   \n",
      "20        Oahu only  1212897.032808   794044.115331   418852.917476   \n",
      "\n",
      "        Unnamed: 4      Unnamed: 5      Unnamed: 6  \n",
      "0              NaN             NaN             NaN  \n",
      "1              NaN             NaN             NaN  \n",
      "2              NaN             NaN             NaN  \n",
      "3              NaN             NaN             NaN  \n",
      "4              NaN             NaN             NaN  \n",
      "5              NaN            2021             NaN  \n",
      "6            Total        Domestic  Inter-national  \n",
      "7              NaN             NaN             NaN  \n",
      "8   6777760.263237  6656779.263237        120981.0  \n",
      "9              NaN             NaN             NaN  \n",
      "10  3326622.092527  3250595.675265    76026.417262  \n",
      "11    813647.31792   807657.817604     5989.500316  \n",
      "12  2340914.931979  2298907.580889    42007.351091  \n",
      "13  2303941.517542  2262136.950777    41804.566766  \n",
      "14    25758.390803    25507.857103        250.5337  \n",
      "15     47829.24513    47290.640173      538.604956  \n",
      "16  1183457.998357  1172729.105042    10728.893315  \n",
      "17   293832.711127   291467.398143     2365.312984  \n",
      "18  1064571.439433   1054542.74088    10028.698553  \n",
      "19  5990063.982128   5880593.10609   109470.876038  \n",
      "20  2737924.661345  2671018.357009    66906.304337  \n"
     ]
    }
   ],
   "source": [
    "df_7= pd.read_excel(\"section07.xls\", sheet_name=\"07.07\")\n",
    "print(df_7)"
   ]
  },
  {
   "attachments": {},
   "cell_type": "markdown",
   "metadata": {},
   "source": [
    "Drop empty cells"
   ]
  },
  {
   "cell_type": "code",
   "execution_count": 7,
   "metadata": {},
   "outputs": [
    {
     "data": {
      "text/html": [
       "<div>\n",
       "<style scoped>\n",
       "    .dataframe tbody tr th:only-of-type {\n",
       "        vertical-align: middle;\n",
       "    }\n",
       "\n",
       "    .dataframe tbody tr th {\n",
       "        vertical-align: top;\n",
       "    }\n",
       "\n",
       "    .dataframe thead th {\n",
       "        text-align: right;\n",
       "    }\n",
       "</style>\n",
       "<table border=\"1\" class=\"dataframe\">\n",
       "  <thead>\n",
       "    <tr style=\"text-align: right;\">\n",
       "      <th></th>\n",
       "      <th>Unnamed: 0</th>\n",
       "      <th>Unnamed: 1</th>\n",
       "      <th>Unnamed: 2</th>\n",
       "      <th>Unnamed: 3</th>\n",
       "      <th>Unnamed: 4</th>\n",
       "      <th>Unnamed: 5</th>\n",
       "      <th>Unnamed: 6</th>\n",
       "    </tr>\n",
       "  </thead>\n",
       "  <tbody>\n",
       "    <tr>\n",
       "      <th>6</th>\n",
       "      <td>Area visited</td>\n",
       "      <td>Total</td>\n",
       "      <td>Domestic</td>\n",
       "      <td>Inter-national</td>\n",
       "      <td>Total</td>\n",
       "      <td>Domestic</td>\n",
       "      <td>Inter-national</td>\n",
       "    </tr>\n",
       "    <tr>\n",
       "      <th>8</th>\n",
       "      <td>State total</td>\n",
       "      <td>2678072.861446</td>\n",
       "      <td>2065688.861462</td>\n",
       "      <td>612384.0</td>\n",
       "      <td>6777760.263237</td>\n",
       "      <td>6656779.263237</td>\n",
       "      <td>120981.0</td>\n",
       "    </tr>\n",
       "    <tr>\n",
       "      <th>10</th>\n",
       "      <td>Oahu</td>\n",
       "      <td>1506315.659653</td>\n",
       "      <td>998148.523944</td>\n",
       "      <td>508167.135718</td>\n",
       "      <td>3326622.092527</td>\n",
       "      <td>3250595.675265</td>\n",
       "      <td>76026.417262</td>\n",
       "    </tr>\n",
       "    <tr>\n",
       "      <th>11</th>\n",
       "      <td>Kauai</td>\n",
       "      <td>330262.667066</td>\n",
       "      <td>295842.755924</td>\n",
       "      <td>34419.911142</td>\n",
       "      <td>813647.31792</td>\n",
       "      <td>807657.817604</td>\n",
       "      <td>5989.500316</td>\n",
       "    </tr>\n",
       "    <tr>\n",
       "      <th>12</th>\n",
       "      <td>Maui County</td>\n",
       "      <td>807308.419573</td>\n",
       "      <td>706498.581754</td>\n",
       "      <td>100809.83782</td>\n",
       "      <td>2340914.931979</td>\n",
       "      <td>2298907.580889</td>\n",
       "      <td>42007.351091</td>\n",
       "    </tr>\n",
       "  </tbody>\n",
       "</table>\n",
       "</div>"
      ],
      "text/plain": [
       "      Unnamed: 0      Unnamed: 1      Unnamed: 2      Unnamed: 3  \\\n",
       "6   Area visited           Total        Domestic  Inter-national   \n",
       "8   State total   2678072.861446  2065688.861462        612384.0   \n",
       "10          Oahu  1506315.659653   998148.523944   508167.135718   \n",
       "11         Kauai   330262.667066   295842.755924    34419.911142   \n",
       "12   Maui County   807308.419573   706498.581754    100809.83782   \n",
       "\n",
       "        Unnamed: 4      Unnamed: 5      Unnamed: 6  \n",
       "6            Total        Domestic  Inter-national  \n",
       "8   6777760.263237  6656779.263237        120981.0  \n",
       "10  3326622.092527  3250595.675265    76026.417262  \n",
       "11    813647.31792   807657.817604     5989.500316  \n",
       "12  2340914.931979  2298907.580889    42007.351091  "
      ]
     },
     "execution_count": 7,
     "metadata": {},
     "output_type": "execute_result"
    }
   ],
   "source": [
    "deduped_df_7 = df_7.dropna()\n",
    "deduped_df_7.head()"
   ]
  },
  {
   "attachments": {},
   "cell_type": "markdown",
   "metadata": {},
   "source": [
    "Drop additional cells that are not necessary and not null"
   ]
  },
  {
   "cell_type": "code",
   "execution_count": 8,
   "metadata": {},
   "outputs": [
    {
     "name": "stdout",
     "output_type": "stream",
     "text": [
      "       Unnamed: 0      Unnamed: 1     Unnamed: 2     Unnamed: 3  \\\n",
      "10           Oahu  1506315.659653  998148.523944  508167.135718   \n",
      "11          Kauai   330262.667066  295842.755924   34419.911142   \n",
      "13           Maui   792601.693654  693197.320885   99404.372769   \n",
      "14        Molokai    17024.986222   12998.553311    4026.432911   \n",
      "15          Lanai    17924.022199    15488.98345    2435.038749   \n",
      "16  Hawaii Island   493817.021415  402529.632083   91287.389332   \n",
      "\n",
      "        Unnamed: 4      Unnamed: 5    Unnamed: 6  \n",
      "10  3326622.092527  3250595.675265  76026.417262  \n",
      "11    813647.31792   807657.817604   5989.500316  \n",
      "13  2303941.517542  2262136.950777  41804.566766  \n",
      "14    25758.390803    25507.857103      250.5337  \n",
      "15     47829.24513    47290.640173    538.604956  \n",
      "16  1183457.998357  1172729.105042  10728.893315  \n"
     ]
    }
   ],
   "source": [
    "dropped_df_7 = deduped_df_7.drop([6,8,12,17,18,19,20])\n",
    "print(dropped_df_7)"
   ]
  },
  {
   "attachments": {},
   "cell_type": "markdown",
   "metadata": {},
   "source": [
    "Rename columns"
   ]
  },
  {
   "cell_type": "code",
   "execution_count": 9,
   "metadata": {},
   "outputs": [
    {
     "name": "stdout",
     "output_type": "stream",
     "text": [
      "     Area Visited      Total 2020  Domestic 2020 International 2020  \\\n",
      "10           Oahu  1506315.659653  998148.523944      508167.135718   \n",
      "11          Kauai   330262.667066  295842.755924       34419.911142   \n",
      "13           Maui   792601.693654  693197.320885       99404.372769   \n",
      "14        Molokai    17024.986222   12998.553311        4026.432911   \n",
      "15          Lanai    17924.022199    15488.98345        2435.038749   \n",
      "16  Hawaii Island   493817.021415  402529.632083       91287.389332   \n",
      "\n",
      "        Total 2021   Domestic 2021 International 2021  \n",
      "10  3326622.092527  3250595.675265       76026.417262  \n",
      "11    813647.31792   807657.817604        5989.500316  \n",
      "13  2303941.517542  2262136.950777       41804.566766  \n",
      "14    25758.390803    25507.857103           250.5337  \n",
      "15     47829.24513    47290.640173         538.604956  \n",
      "16  1183457.998357  1172729.105042       10728.893315  \n"
     ]
    }
   ],
   "source": [
    "dropped_df_7.columns = ['Area Visited','Total 2020','Domestic 2020','International 2020','Total 2021','Domestic 2021','International 2021']\n",
    "print(dropped_df_7)"
   ]
  },
  {
   "attachments": {},
   "cell_type": "markdown",
   "metadata": {},
   "source": [
    "Reset and adjust index"
   ]
  },
  {
   "cell_type": "code",
   "execution_count": 10,
   "metadata": {},
   "outputs": [
    {
     "name": "stdout",
     "output_type": "stream",
     "text": [
      "       Total 2020  Domestic 2020 International 2020      Total 2021  \\\n",
      "0  1506315.659653  998148.523944      508167.135718  3326622.092527   \n",
      "1   330262.667066  295842.755924       34419.911142    813647.31792   \n",
      "2   792601.693654  693197.320885       99404.372769  2303941.517542   \n",
      "3    17024.986222   12998.553311        4026.432911    25758.390803   \n",
      "4    17924.022199    15488.98345        2435.038749     47829.24513   \n",
      "5   493817.021415  402529.632083       91287.389332  1183457.998357   \n",
      "\n",
      "    Domestic 2021 International 2021  \n",
      "0  3250595.675265       76026.417262  \n",
      "1   807657.817604        5989.500316  \n",
      "2  2262136.950777       41804.566766  \n",
      "3    25507.857103           250.5337  \n",
      "4    47290.640173         538.604956  \n",
      "5  1172729.105042       10728.893315  \n"
     ]
    }
   ],
   "source": [
    "dropped_df7 = dropped_df_7.reset_index(drop=True)\n",
    "ridf7 = dropped_df7.drop(dropped_df7.columns[[0]],axis=1)\n",
    "print(ridf7)"
   ]
  },
  {
   "attachments": {},
   "cell_type": "markdown",
   "metadata": {},
   "source": [
    "### 2018/2019 Visitor Arrivals"
   ]
  },
  {
   "cell_type": "code",
   "execution_count": 11,
   "metadata": {},
   "outputs": [
    {
     "name": "stdout",
     "output_type": "stream",
     "text": [
      "   Table 7.07-- VISITOR ARRIVALS, BY AREA VISITED:  2018 AND 2019  \\\n",
      "0                                                 NaN               \n",
      "1   [Covers visitors who arrived by air and stayed...               \n",
      "2     includes passengers from all flights origina...               \n",
      "3     includes passengers from all flights origina...               \n",
      "4                                                 NaN               \n",
      "5                                                 NaN               \n",
      "6                                        Area visited               \n",
      "7                                                 NaN               \n",
      "8                                        State total                \n",
      "9                                                 NaN               \n",
      "10                                               Oahu               \n",
      "11                                              Kauai               \n",
      "12                                        Maui County               \n",
      "13                                               Maui               \n",
      "14                                            Molokai               \n",
      "15                                              Lanai               \n",
      "16                                      Hawaii Island               \n",
      "17                                               Hilo               \n",
      "18                                               Kona               \n",
      "19                                    One island only               \n",
      "20                                          Oahu only               \n",
      "21                                                NaN               \n",
      "22                                                NaN               \n",
      "23       Source:  Hawaii Tourism Authority, Touris...               \n",
      "24  <https://www.hawaiitourismauthority.org/resear...               \n",
      "25                                       and records.               \n",
      "\n",
      "        Unnamed: 1      Unnamed: 2       Unnamed: 3       Unnamed: 4  \\\n",
      "0              NaN             NaN              NaN              NaN   \n",
      "1              NaN             NaN              NaN              NaN   \n",
      "2              NaN             NaN              NaN              NaN   \n",
      "3              NaN             NaN              NaN              NaN   \n",
      "4              NaN             NaN              NaN              NaN   \n",
      "5              NaN            2018              NaN              NaN   \n",
      "6           Total         Domestic  Inter-national             Total   \n",
      "7              NaN             NaN              NaN              NaN   \n",
      "8   9761448.055986  6736736.055989        3024712.0  10243165.024103   \n",
      "9              NaN             NaN              NaN              NaN   \n",
      "10  5862357.577556  3217740.281575    2644617.29598   6154248.093969   \n",
      "11  1389300.423018  1209338.377554    179962.045464   1370028.606504   \n",
      "12  2963564.075699  2473376.846713    490187.228987   3111131.460024   \n",
      "13  2914912.070158  2432853.608285    482058.461874   3059904.749288   \n",
      "14    58885.489912    42440.653487     16444.836425     63034.667872   \n",
      "15    75010.305614    54310.073018     20700.232597      84102.95976   \n",
      "16  1706217.780855  1291109.460392    415108.320463   1763904.023422   \n",
      "17   601159.812714   424719.609204     176440.20351    600490.325644   \n",
      "18  1488699.525585  1134812.912673    353886.612912   1553720.971394   \n",
      "19  8099892.222275  5627323.262461   2472568.959815   8595523.516356   \n",
      "20  4499507.321051  2372338.168146   2127169.152905   4799335.809374   \n",
      "21             NaN             NaN              NaN              NaN   \n",
      "22             NaN             NaN              NaN              NaN   \n",
      "23             NaN             NaN              NaN              NaN   \n",
      "24             NaN             NaN              NaN              NaN   \n",
      "25             NaN             NaN              NaN              NaN   \n",
      "\n",
      "        Unnamed: 5      Unnamed: 6  \n",
      "0              NaN             NaN  \n",
      "1              NaN             NaN  \n",
      "2              NaN             NaN  \n",
      "3              NaN             NaN  \n",
      "4              NaN             NaN  \n",
      "5             2019             NaN  \n",
      "6         Domestic  Inter-national  \n",
      "7              NaN             NaN  \n",
      "8   7253806.024038       2989359.0  \n",
      "9              NaN             NaN  \n",
      "10  3513070.170926  2641177.922997  \n",
      "11  1211259.804112   158768.802392  \n",
      "12   2650786.88681   460344.573213  \n",
      "13  2609797.643723   450107.105566  \n",
      "14    44304.320365    18730.347507  \n",
      "15    58799.108837    25303.850924  \n",
      "16  1361151.131748   402752.891676  \n",
      "17   438107.297595   162383.028049  \n",
      "18  1205698.079465   348022.891932  \n",
      "19  6114793.810327   2480729.70603  \n",
      "20  2638592.862547  2160742.946826  \n",
      "21             NaN             NaN  \n",
      "22             NaN             NaN  \n",
      "23             NaN             NaN  \n",
      "24             NaN             NaN  \n",
      "25             NaN             NaN  \n"
     ]
    }
   ],
   "source": [
    "df_7_2019= pd.read_excel(\"section07.2019.xlsx\", sheet_name=\"07.07\")\n",
    "print(df_7_2019)"
   ]
  },
  {
   "attachments": {},
   "cell_type": "markdown",
   "metadata": {},
   "source": [
    "Drop nulls"
   ]
  },
  {
   "cell_type": "code",
   "execution_count": 12,
   "metadata": {},
   "outputs": [
    {
     "data": {
      "text/html": [
       "<div>\n",
       "<style scoped>\n",
       "    .dataframe tbody tr th:only-of-type {\n",
       "        vertical-align: middle;\n",
       "    }\n",
       "\n",
       "    .dataframe tbody tr th {\n",
       "        vertical-align: top;\n",
       "    }\n",
       "\n",
       "    .dataframe thead th {\n",
       "        text-align: right;\n",
       "    }\n",
       "</style>\n",
       "<table border=\"1\" class=\"dataframe\">\n",
       "  <thead>\n",
       "    <tr style=\"text-align: right;\">\n",
       "      <th></th>\n",
       "      <th>Table 7.07-- VISITOR ARRIVALS, BY AREA VISITED:  2018 AND 2019</th>\n",
       "      <th>Unnamed: 1</th>\n",
       "      <th>Unnamed: 2</th>\n",
       "      <th>Unnamed: 3</th>\n",
       "      <th>Unnamed: 4</th>\n",
       "      <th>Unnamed: 5</th>\n",
       "      <th>Unnamed: 6</th>\n",
       "    </tr>\n",
       "  </thead>\n",
       "  <tbody>\n",
       "    <tr>\n",
       "      <th>6</th>\n",
       "      <td>Area visited</td>\n",
       "      <td>Total</td>\n",
       "      <td>Domestic</td>\n",
       "      <td>Inter-national</td>\n",
       "      <td>Total</td>\n",
       "      <td>Domestic</td>\n",
       "      <td>Inter-national</td>\n",
       "    </tr>\n",
       "    <tr>\n",
       "      <th>8</th>\n",
       "      <td>State total</td>\n",
       "      <td>9761448.055986</td>\n",
       "      <td>6736736.055989</td>\n",
       "      <td>3024712.0</td>\n",
       "      <td>10243165.024103</td>\n",
       "      <td>7253806.024038</td>\n",
       "      <td>2989359.0</td>\n",
       "    </tr>\n",
       "    <tr>\n",
       "      <th>10</th>\n",
       "      <td>Oahu</td>\n",
       "      <td>5862357.577556</td>\n",
       "      <td>3217740.281575</td>\n",
       "      <td>2644617.29598</td>\n",
       "      <td>6154248.093969</td>\n",
       "      <td>3513070.170926</td>\n",
       "      <td>2641177.922997</td>\n",
       "    </tr>\n",
       "    <tr>\n",
       "      <th>11</th>\n",
       "      <td>Kauai</td>\n",
       "      <td>1389300.423018</td>\n",
       "      <td>1209338.377554</td>\n",
       "      <td>179962.045464</td>\n",
       "      <td>1370028.606504</td>\n",
       "      <td>1211259.804112</td>\n",
       "      <td>158768.802392</td>\n",
       "    </tr>\n",
       "    <tr>\n",
       "      <th>12</th>\n",
       "      <td>Maui County</td>\n",
       "      <td>2963564.075699</td>\n",
       "      <td>2473376.846713</td>\n",
       "      <td>490187.228987</td>\n",
       "      <td>3111131.460024</td>\n",
       "      <td>2650786.88681</td>\n",
       "      <td>460344.573213</td>\n",
       "    </tr>\n",
       "  </tbody>\n",
       "</table>\n",
       "</div>"
      ],
      "text/plain": [
       "   Table 7.07-- VISITOR ARRIVALS, BY AREA VISITED:  2018 AND 2019  \\\n",
       "6                                        Area visited               \n",
       "8                                        State total                \n",
       "10                                               Oahu               \n",
       "11                                              Kauai               \n",
       "12                                        Maui County               \n",
       "\n",
       "        Unnamed: 1      Unnamed: 2       Unnamed: 3       Unnamed: 4  \\\n",
       "6           Total         Domestic  Inter-national             Total   \n",
       "8   9761448.055986  6736736.055989        3024712.0  10243165.024103   \n",
       "10  5862357.577556  3217740.281575    2644617.29598   6154248.093969   \n",
       "11  1389300.423018  1209338.377554    179962.045464   1370028.606504   \n",
       "12  2963564.075699  2473376.846713    490187.228987   3111131.460024   \n",
       "\n",
       "        Unnamed: 5      Unnamed: 6  \n",
       "6         Domestic  Inter-national  \n",
       "8   7253806.024038       2989359.0  \n",
       "10  3513070.170926  2641177.922997  \n",
       "11  1211259.804112   158768.802392  \n",
       "12   2650786.88681   460344.573213  "
      ]
     },
     "execution_count": 12,
     "metadata": {},
     "output_type": "execute_result"
    }
   ],
   "source": [
    "deduped_df_7_2019 = df_7_2019.dropna()\n",
    "deduped_df_7_2019.head()"
   ]
  },
  {
   "attachments": {},
   "cell_type": "markdown",
   "metadata": {},
   "source": [
    "Drop empties and rename columns"
   ]
  },
  {
   "cell_type": "code",
   "execution_count": 13,
   "metadata": {},
   "outputs": [
    {
     "name": "stdout",
     "output_type": "stream",
     "text": [
      "     Area Visited      Total 2018   Domestic 2018 International 2018  \\\n",
      "10           Oahu  5862357.577556  3217740.281575      2644617.29598   \n",
      "11          Kauai  1389300.423018  1209338.377554      179962.045464   \n",
      "13           Maui  2914912.070158  2432853.608285      482058.461874   \n",
      "14        Molokai    58885.489912    42440.653487       16444.836425   \n",
      "15          Lanai    75010.305614    54310.073018       20700.232597   \n",
      "16  Hawaii Island  1706217.780855  1291109.460392      415108.320463   \n",
      "\n",
      "        Total 2019   Domestic 2019 International 2019  \n",
      "10  6154248.093969  3513070.170926     2641177.922997  \n",
      "11  1370028.606504  1211259.804112      158768.802392  \n",
      "13  3059904.749288  2609797.643723      450107.105566  \n",
      "14    63034.667872    44304.320365       18730.347507  \n",
      "15     84102.95976    58799.108837       25303.850924  \n",
      "16  1763904.023422  1361151.131748      402752.891676  \n"
     ]
    }
   ],
   "source": [
    "dropped_df_7_2019 = deduped_df_7_2019.drop([6,8,12,17,18,19,20])\n",
    "dropped_df_7_2019.columns = ['Area Visited','Total 2018','Domestic 2018','International 2018','Total 2019','Domestic 2019','International 2019']\n",
    "print(dropped_df_7_2019)\n",
    "#print(tabulate(dropped_df_7_2019, headers='keys', tablefmt='plain', showindex=1))"
   ]
  },
  {
   "attachments": {},
   "cell_type": "markdown",
   "metadata": {},
   "source": [
    "Reset index"
   ]
  },
  {
   "cell_type": "code",
   "execution_count": 14,
   "metadata": {},
   "outputs": [
    {
     "name": "stdout",
     "output_type": "stream",
     "text": [
      "    Area Visited      Total 2018   Domestic 2018 International 2018  \\\n",
      "0           Oahu  5862357.577556  3217740.281575      2644617.29598   \n",
      "1          Kauai  1389300.423018  1209338.377554      179962.045464   \n",
      "2           Maui  2914912.070158  2432853.608285      482058.461874   \n",
      "3        Molokai    58885.489912    42440.653487       16444.836425   \n",
      "4          Lanai    75010.305614    54310.073018       20700.232597   \n",
      "5  Hawaii Island  1706217.780855  1291109.460392      415108.320463   \n",
      "\n",
      "       Total 2019   Domestic 2019 International 2019  \n",
      "0  6154248.093969  3513070.170926     2641177.922997  \n",
      "1  1370028.606504  1211259.804112      158768.802392  \n",
      "2  3059904.749288  2609797.643723      450107.105566  \n",
      "3    63034.667872    44304.320365       18730.347507  \n",
      "4     84102.95976    58799.108837       25303.850924  \n",
      "5  1763904.023422  1361151.131748      402752.891676  \n"
     ]
    }
   ],
   "source": [
    "ridf7_2019 = dropped_df_7_2019.reset_index(drop=True)\n",
    "print(ridf7_2019)"
   ]
  },
  {
   "attachments": {},
   "cell_type": "markdown",
   "metadata": {},
   "source": [
    "### Excel sheet 7.16 \"Island experience\""
   ]
  },
  {
   "cell_type": "code",
   "execution_count": 15,
   "metadata": {},
   "outputs": [
    {
     "name": "stdout",
     "output_type": "stream",
     "text": [
      "   Table 7.16-- OVERALL ISLAND EXPERIENCE BY VISITORS FROM THE     Unnamed: 1  \\\n",
      "0     U.S. TOTAL, U.S. WEST, U.S. EAST, AND JAPAN:...                     NaN   \n",
      "1                                                 NaN                     NaN   \n",
      "2                                                 NaN                     NaN   \n",
      "3                                                 NaN                     NaN   \n",
      "4                                                 NaN                     NaN   \n",
      "5                                   Island and rating                     NaN   \n",
      "6                                                 NaN                     NaN   \n",
      "7                                                Oahu                     NaN   \n",
      "8                                                 NaN               Excellent   \n",
      "9                                                 NaN           Above average   \n",
      "10                                                NaN           Below average   \n",
      "11                                                NaN                    Poor   \n",
      "12                                                NaN                     NaN   \n",
      "13                                               Maui                     NaN   \n",
      "14                                                NaN               Excellent   \n",
      "15                                                NaN           Above average   \n",
      "16                                                NaN           Below average   \n",
      "17                                                NaN                    Poor   \n",
      "18                                                NaN                     NaN   \n",
      "19                                            Molokai                     NaN   \n",
      "20                                                NaN               Excellent   \n",
      "21                                                NaN           Above average   \n",
      "22                                                NaN           Below average   \n",
      "23                                                NaN                    Poor   \n",
      "24                                                NaN                     NaN   \n",
      "25                                              Lanai                     NaN   \n",
      "26                                                NaN               Excellent   \n",
      "27                                                NaN           Above average   \n",
      "28                                                NaN           Below average   \n",
      "29                                                NaN                    Poor   \n",
      "30                                                NaN                     NaN   \n",
      "31                      Hawai‘i (Hilo/ Kona/ Volcano)                     NaN   \n",
      "32                                                NaN               Excellent   \n",
      "33                                                NaN           Above average   \n",
      "34                                                NaN           Below average   \n",
      "35                                                NaN                    Poor   \n",
      "36                                                NaN                     NaN   \n",
      "37                                              Kauai                     NaN   \n",
      "38                                                NaN               Excellent   \n",
      "39                                                NaN           Above average   \n",
      "40                                                NaN           Below average   \n",
      "41                                                NaN                    Poor   \n",
      "\n",
      "    Unnamed: 2  \n",
      "0          NaN  \n",
      "1          NaN  \n",
      "2          NaN  \n",
      "3          NaN  \n",
      "4          NaN  \n",
      "5   U.S. total  \n",
      "6          NaN  \n",
      "7          NaN  \n",
      "8     74.56781  \n",
      "9    17.021864  \n",
      "10      5.4093  \n",
      "11    3.001026  \n",
      "12         NaN  \n",
      "13         NaN  \n",
      "14   86.081271  \n",
      "15    9.136139  \n",
      "16    3.039964  \n",
      "17    1.742626  \n",
      "18         NaN  \n",
      "19         NaN  \n",
      "20   84.472353  \n",
      "21   10.185999  \n",
      "22    5.341648  \n",
      "23           0  \n",
      "24         NaN  \n",
      "25         NaN  \n",
      "26   86.019802  \n",
      "27     8.49379  \n",
      "28    3.349234  \n",
      "29    2.137174  \n",
      "30         NaN  \n",
      "31         NaN  \n",
      "32   85.196997  \n",
      "33   10.677396  \n",
      "34    3.289596  \n",
      "35    0.836011  \n",
      "36         NaN  \n",
      "37         NaN  \n",
      "38   83.793073  \n",
      "39   10.263686  \n",
      "40    4.155042  \n",
      "41    1.788199  \n"
     ]
    }
   ],
   "source": [
    "df_16= pd.read_excel(\"section07.xls\", sheet_name=\"07.16\", usecols='A,B,C')\n",
    "print(df_16)"
   ]
  },
  {
   "attachments": {},
   "cell_type": "markdown",
   "metadata": {},
   "source": [
    "Drop empty cells"
   ]
  },
  {
   "cell_type": "code",
   "execution_count": 16,
   "metadata": {},
   "outputs": [
    {
     "name": "stdout",
     "output_type": "stream",
     "text": [
      "                           Island         Rating   US Total\n",
      "7                            Oahu            NaN        NaN\n",
      "9                             NaN  Above average  17.021864\n",
      "10                            NaN  Below average     5.4093\n",
      "11                            NaN           Poor   3.001026\n",
      "13                           Maui            NaN        NaN\n",
      "15                            NaN  Above average   9.136139\n",
      "16                            NaN  Below average   3.039964\n",
      "17                            NaN           Poor   1.742626\n",
      "19                        Molokai            NaN        NaN\n",
      "20                            NaN      Excellent  84.472353\n",
      "21                            NaN  Above average  10.185999\n",
      "22                            NaN  Below average   5.341648\n",
      "25                          Lanai            NaN        NaN\n",
      "26                            NaN      Excellent  86.019802\n",
      "27                            NaN  Above average    8.49379\n",
      "28                            NaN  Below average   3.349234\n",
      "29                            NaN           Poor   2.137174\n",
      "31  Hawai‘i (Hilo/ Kona/ Volcano)            NaN        NaN\n",
      "32                            NaN      Excellent  85.196997\n",
      "33                            NaN  Above average  10.677396\n",
      "34                            NaN  Below average   3.289596\n",
      "35                            NaN           Poor   0.836011\n",
      "37                          Kauai            NaN        NaN\n",
      "38                            NaN      Excellent  83.793073\n",
      "39                            NaN  Above average  10.263686\n",
      "40                            NaN  Below average   4.155042\n",
      "41                            NaN           Poor   1.788199\n"
     ]
    }
   ],
   "source": [
    "dropped_df_16 = df_16.drop([0,1,2,3,4,5,6,8,12,14,18,23,24,30,36])\n",
    "dropped_df_16.columns = ['Island','Rating', 'US Total']\n",
    "print(dropped_df_16)"
   ]
  },
  {
   "attachments": {},
   "cell_type": "markdown",
   "metadata": {},
   "source": [
    "Fill null cells that need to be kept\n"
   ]
  },
  {
   "cell_type": "code",
   "execution_count": 17,
   "metadata": {},
   "outputs": [
    {
     "name": "stdout",
     "output_type": "stream",
     "text": [
      "                           Island         Rating   US Total\n",
      "0                            Oahu                          \n",
      "1                                  Above average  17.021864\n",
      "2                                  Below average     5.4093\n",
      "3                                           Poor   3.001026\n",
      "4                            Maui                          \n",
      "5                                  Above average   9.136139\n",
      "6                                  Below average   3.039964\n",
      "7                                           Poor   1.742626\n",
      "8                         Molokai                          \n",
      "9                                      Excellent  84.472353\n",
      "10                                 Above average  10.185999\n",
      "11                                 Below average   5.341648\n",
      "12                          Lanai                          \n",
      "13                                     Excellent  86.019802\n",
      "14                                 Above average    8.49379\n",
      "15                                 Below average   3.349234\n",
      "16                                          Poor   2.137174\n",
      "17  Hawai‘i (Hilo/ Kona/ Volcano)                          \n",
      "18                                     Excellent  85.196997\n",
      "19                                 Above average  10.677396\n",
      "20                                 Below average   3.289596\n",
      "21                                          Poor   0.836011\n",
      "22                          Kauai                          \n",
      "23                                     Excellent  83.793073\n",
      "24                                 Above average  10.263686\n",
      "25                                 Below average   4.155042\n",
      "26                                          Poor   1.788199\n"
     ]
    }
   ],
   "source": [
    "filled_df_16 = dropped_df_16.fillna('')\n",
    "ri_filled_df_16 = filled_df_16.reset_index(drop=True)\n",
    "print(ri_filled_df_16)"
   ]
  },
  {
   "cell_type": "code",
   "execution_count": 18,
   "metadata": {},
   "outputs": [
    {
     "name": "stdout",
     "output_type": "stream",
     "text": [
      "     index  Excellent  Above Average  Below Average  Poor\n",
      "0     Oahu       74.6           17.0            5.4   3.0\n",
      "1     Maui       86.1            9.1            3.0   1.7\n",
      "2  Molokai       84.5           10.2            5.3   0.0\n",
      "3    Lanai       86.0            8.5            3.3   2.1\n",
      "4  Hawai'i       85.2           10.7            3.3   0.8\n",
      "5    Kauai       83.8           10.3            4.2   1.8\n"
     ]
    }
   ],
   "source": [
    "ri_filled_df_16 = pd.DataFrame({\"Excellent\": [74.6, 86.1, 84.5, 86.0, 85.2, 83.8],\n",
    "                   \"Above Average\": [17.0, 9.1, 10.2, 8.5, 10.7, 10.3],\n",
    "                   \"Below Average\": [5.4, 3.0, 5.3, 3.3, 3.3, 4.2],\n",
    "                   \"Poor\": [3.0, 1.7, 0.0, 2.1, 0.8, 1.8]},\n",
    "                  [\"Oahu\", \"Maui\", \"Molokai\", \"Lanai\", \"Hawai'i\",\"Kauai\"])\n",
    "ri_filled_df_16.reset_index(inplace=True)\n",
    "print(ri_filled_df_16)"
   ]
  },
  {
   "attachments": {},
   "cell_type": "markdown",
   "metadata": {},
   "source": [
    "### Excel sheet 34 \"Average room prices\""
   ]
  },
  {
   "cell_type": "code",
   "execution_count": 19,
   "metadata": {},
   "outputs": [
    {
     "data": {
      "text/html": [
       "<div>\n",
       "<style scoped>\n",
       "    .dataframe tbody tr th:only-of-type {\n",
       "        vertical-align: middle;\n",
       "    }\n",
       "\n",
       "    .dataframe tbody tr th {\n",
       "        vertical-align: top;\n",
       "    }\n",
       "\n",
       "    .dataframe thead th {\n",
       "        text-align: right;\n",
       "    }\n",
       "</style>\n",
       "<table border=\"1\" class=\"dataframe\">\n",
       "  <thead>\n",
       "    <tr style=\"text-align: right;\">\n",
       "      <th></th>\n",
       "      <th>Table 7.34-- VISITOR INDUSTRY PRICES, PRICE INDEXES, AND PRICE</th>\n",
       "      <th>Unnamed: 1</th>\n",
       "    </tr>\n",
       "  </thead>\n",
       "  <tbody>\n",
       "    <tr>\n",
       "      <th>0</th>\n",
       "      <td>DEFLATOR:  1991 TO 2021</td>\n",
       "      <td>NaN</td>\n",
       "    </tr>\n",
       "    <tr>\n",
       "      <th>1</th>\n",
       "      <td>NaN</td>\n",
       "      <td>NaN</td>\n",
       "    </tr>\n",
       "    <tr>\n",
       "      <th>2</th>\n",
       "      <td>NaN</td>\n",
       "      <td>NaN</td>\n",
       "    </tr>\n",
       "    <tr>\n",
       "      <th>3</th>\n",
       "      <td>Year</td>\n",
       "      <td>Average daily room rate 1/ (dollars)</td>\n",
       "    </tr>\n",
       "    <tr>\n",
       "      <th>4</th>\n",
       "      <td>NaN</td>\n",
       "      <td>NaN</td>\n",
       "    </tr>\n",
       "  </tbody>\n",
       "</table>\n",
       "</div>"
      ],
      "text/plain": [
       "  Table 7.34-- VISITOR INDUSTRY PRICES, PRICE INDEXES, AND PRICE  \\\n",
       "0                            DEFLATOR:  1991 TO 2021               \n",
       "1                                                NaN               \n",
       "2                                                NaN               \n",
       "3                                               Year               \n",
       "4                                                NaN               \n",
       "\n",
       "                             Unnamed: 1  \n",
       "0                                   NaN  \n",
       "1                                   NaN  \n",
       "2                                   NaN  \n",
       "3  Average daily room rate 1/ (dollars)  \n",
       "4                                   NaN  "
      ]
     },
     "execution_count": 19,
     "metadata": {},
     "output_type": "execute_result"
    }
   ],
   "source": [
    "df_34= pd.read_excel(\"section07.xls\", sheet_name=\"07.34\", usecols='A:B')\n",
    "df_34.head()"
   ]
  },
  {
   "attachments": {},
   "cell_type": "markdown",
   "metadata": {},
   "source": [
    "Drop empty cells"
   ]
  },
  {
   "cell_type": "code",
   "execution_count": 20,
   "metadata": {},
   "outputs": [
    {
     "name": "stdout",
     "output_type": "stream",
     "text": [
      "    Year                   Avg Daily Room Rate\n",
      "0   Year  Average daily room rate 1/ (dollars)\n",
      "1   1991                                101.89\n",
      "2   1992                                105.59\n",
      "3   1993                                103.26\n",
      "4   1994                                105.46\n",
      "5   1995                                109.39\n",
      "6   1996                                116.79\n",
      "7   1997                                124.96\n",
      "8   1998                                129.66\n",
      "9   1999                                131.66\n",
      "10  2000                                140.63\n",
      "11  2001                                144.88\n",
      "12  2002                                140.89\n",
      "13  2003                                144.16\n",
      "14  2004                                152.17\n",
      "15  2005                                166.16\n",
      "16  2006                                187.19\n",
      "17  2007                                199.96\n",
      "18  2008                                201.85\n",
      "19  2009                                 177.1\n",
      "20  2010                                174.84\n",
      "21  2011                                189.83\n",
      "22  2012                                204.93\n",
      "23  2013                                 229.9\n",
      "24  2014                                234.85\n",
      "25  2015                                244.64\n",
      "26  2016                                254.03\n",
      "27  2017                                264.49\n",
      "28  2018                                278.07\n",
      "29  2019                            283.052856\n",
      "30  2020                                266.81\n",
      "31  2021                                328.68\n"
     ]
    }
   ],
   "source": [
    "deduped_df_34 = df_34.dropna()\n",
    "ridf_34 = deduped_df_34.reset_index(drop=True)\n",
    "ridf_34.columns = ['Year', 'Avg Daily Room Rate']\n",
    "print(ridf_34)"
   ]
  },
  {
   "attachments": {},
   "cell_type": "markdown",
   "metadata": {},
   "source": [
    "### 2019 Trip characteristics"
   ]
  },
  {
   "cell_type": "code",
   "execution_count": 21,
   "metadata": {},
   "outputs": [
    {
     "name": "stdout",
     "output_type": "stream",
     "text": [
      "   Table 7.10-- TRIP CHARACTERISTICS OF VISITORS: 2018 AND 2019  \\\n",
      "0                                                 NaN             \n",
      "1   [Covers visitors who arrived by air and stayed...             \n",
      "2     includes passengers from all flights origina...             \n",
      "3     includes passengers from all flights origina...             \n",
      "4                                                 NaN             \n",
      "5                                                 NaN             \n",
      "6                                             Subject             \n",
      "7                                                 NaN             \n",
      "8                                     All visitors 1/             \n",
      "9                                                 NaN             \n",
      "10                                Purpose of visit 1/             \n",
      "11                                     Pleasure (net)             \n",
      "12                                           Vacation             \n",
      "13                                          Honeymoon             \n",
      "14                                Wedding/Get Married             \n",
      "15                Meetings, conventions, incentive 1/             \n",
      "16                              Convention/conference             \n",
      "17                                  Corporate meeting             \n",
      "18                                          Incentive             \n",
      "19                                     Other business             \n",
      "20                         Visit friends or relatives             \n",
      "21                             Government or military             \n",
      "22                                      Attend school             \n",
      "23                                        Sport event             \n",
      "24                                                NaN             \n",
      "25                                    Traveler method             \n",
      "26                                         Group tour             \n",
      "27                                            Package             \n",
      "28                                   True independent             \n",
      "29                                                NaN             \n",
      "30                                     Accommodations             \n",
      "31                                              Hotel             \n",
      "32                                         Hotel only             \n",
      "33                                              Condo             \n",
      "34                                         Condo only             \n",
      "35                                          Timeshare             \n",
      "36                                     Timeshare only             \n",
      "37                                       Rental house             \n",
      "38                                             Hostel             \n",
      "39                                          Camp site             \n",
      "40                                    Bed & breakfast             \n",
      "41                                        Cruise ship             \n",
      "42                                 Friends, relatives             \n",
      "43                                                NaN             \n",
      "44                                                NaN             \n",
      "45  1/  Because of multiple responses, detail may ...             \n",
      "46       Source:  Hawaii Tourism Authority, Touris...             \n",
      "47  <https://www.hawaiitourismauthority.org/resear...             \n",
      "48                                       and records.             \n",
      "\n",
      "        Unnamed: 1    Unnamed: 2      Unnamed: 3    Unnamed: 4  \n",
      "0              NaN           NaN             NaN           NaN  \n",
      "1              NaN           NaN             NaN           NaN  \n",
      "2              NaN           NaN             NaN           NaN  \n",
      "3              NaN           NaN             NaN           NaN  \n",
      "4              NaN           NaN             NaN           NaN  \n",
      "5         Domestic           NaN   International           NaN  \n",
      "6             2018  2.019000e+03            2018  2.019000e+03  \n",
      "7              NaN           NaN             NaN           NaN  \n",
      "8   6736736.055989  7.253806e+06       3024712.0  2.989359e+06  \n",
      "9              NaN           NaN             NaN           NaN  \n",
      "10             NaN           NaN             NaN           NaN  \n",
      "11  5594930.890898  6.057786e+06    2633642.9517  2.619941e+06  \n",
      "12  5369681.299388  5.833536e+06  2330693.528063  2.327895e+06  \n",
      "13   228615.301854  2.260048e+05   300775.463051  2.901876e+05  \n",
      "14    56653.590214  5.527781e+04    45859.204847  4.381943e+04  \n",
      "15   313516.551054  3.131850e+05    157856.71645  1.459857e+05  \n",
      "16   197447.773446  1.833994e+05    53147.084771  4.731704e+04  \n",
      "17      70672.7558  7.634092e+04      9904.33716  1.523434e+04  \n",
      "18    56307.705396  6.415818e+04    98035.433189  8.520230e+04  \n",
      "19   240717.942301  2.528426e+05    17284.816742  1.834243e+04  \n",
      "20   709184.067266  7.513774e+05    84621.918074  8.453023e+04  \n",
      "21    91142.961729  8.701993e+04    13101.928439  1.670822e+04  \n",
      "22    14142.725609  1.494816e+04    11700.235919  1.056804e+04  \n",
      "23    65796.348921  6.876657e+04    26169.442782  2.909063e+04  \n",
      "24             NaN           NaN             NaN           NaN  \n",
      "25             NaN           NaN             NaN           NaN  \n",
      "26   164704.126959  1.636167e+05   342425.024516  3.214359e+05  \n",
      "27   1206398.06852  1.249443e+06   1318659.50227  1.341724e+06  \n",
      "28  5465283.707661  5.938291e+06  1629209.560199  1.571521e+06  \n",
      "29             NaN           NaN             NaN           NaN  \n",
      "30             NaN           NaN             NaN           NaN  \n",
      "31  3581232.304172  3.863229e+06   2282953.81996  2.250648e+06  \n",
      "32  2990087.233111  3.263870e+06  2064530.724652  2.051159e+06  \n",
      "33  1190791.492733  1.245480e+06   480816.011134  4.542847e+05  \n",
      "34   938986.492104  9.980504e+05   348485.492694  3.378014e+05  \n",
      "35   681247.976325  6.946531e+05   161084.190767  1.587284e+05  \n",
      "36   530577.641803  5.487710e+05   120354.672696  1.200913e+05  \n",
      "37    805128.55348  8.890611e+05   147929.794685  1.477591e+05  \n",
      "38    53491.153891  5.581139e+04      28009.5403  2.967859e+04  \n",
      "39    46250.911142  5.024300e+04    12502.669189  1.360033e+04  \n",
      "40    87610.869913  9.458986e+04    29547.190859  2.426145e+04  \n",
      "41   108900.234612  1.180525e+05    25793.772079  2.523569e+04  \n",
      "42   790992.720227  8.374156e+05    86634.382741  9.923894e+04  \n",
      "43             NaN           NaN             NaN           NaN  \n",
      "44             NaN           NaN             NaN           NaN  \n",
      "45             NaN           NaN             NaN           NaN  \n",
      "46             NaN           NaN             NaN           NaN  \n",
      "47             NaN           NaN             NaN           NaN  \n",
      "48             NaN           NaN             NaN           NaN  \n"
     ]
    }
   ],
   "source": [
    "df_10_2019= pd.read_excel(\"section07.2019.xlsx\", sheet_name=\"07.10\")\n",
    "print(df_10_2019)"
   ]
  },
  {
   "cell_type": "code",
   "execution_count": 22,
   "metadata": {},
   "outputs": [
    {
     "data": {
      "text/html": [
       "<div>\n",
       "<style scoped>\n",
       "    .dataframe tbody tr th:only-of-type {\n",
       "        vertical-align: middle;\n",
       "    }\n",
       "\n",
       "    .dataframe tbody tr th {\n",
       "        vertical-align: top;\n",
       "    }\n",
       "\n",
       "    .dataframe thead th {\n",
       "        text-align: right;\n",
       "    }\n",
       "</style>\n",
       "<table border=\"1\" class=\"dataframe\">\n",
       "  <thead>\n",
       "    <tr style=\"text-align: right;\">\n",
       "      <th></th>\n",
       "      <th>Type</th>\n",
       "      <th>Domestic 2018</th>\n",
       "      <th>Domestic 2019</th>\n",
       "      <th>International 2018</th>\n",
       "      <th>International 2019</th>\n",
       "    </tr>\n",
       "  </thead>\n",
       "  <tbody>\n",
       "    <tr>\n",
       "      <th>6</th>\n",
       "      <td>Subject</td>\n",
       "      <td>2018</td>\n",
       "      <td>2.019000e+03</td>\n",
       "      <td>2018</td>\n",
       "      <td>2.019000e+03</td>\n",
       "    </tr>\n",
       "    <tr>\n",
       "      <th>8</th>\n",
       "      <td>All visitors 1/</td>\n",
       "      <td>6736736.055989</td>\n",
       "      <td>7.253806e+06</td>\n",
       "      <td>3024712.0</td>\n",
       "      <td>2.989359e+06</td>\n",
       "    </tr>\n",
       "    <tr>\n",
       "      <th>11</th>\n",
       "      <td>Pleasure (net)</td>\n",
       "      <td>5594930.890898</td>\n",
       "      <td>6.057786e+06</td>\n",
       "      <td>2633642.9517</td>\n",
       "      <td>2.619941e+06</td>\n",
       "    </tr>\n",
       "    <tr>\n",
       "      <th>12</th>\n",
       "      <td>Vacation</td>\n",
       "      <td>5369681.299388</td>\n",
       "      <td>5.833536e+06</td>\n",
       "      <td>2330693.528063</td>\n",
       "      <td>2.327895e+06</td>\n",
       "    </tr>\n",
       "    <tr>\n",
       "      <th>13</th>\n",
       "      <td>Honeymoon</td>\n",
       "      <td>228615.301854</td>\n",
       "      <td>2.260048e+05</td>\n",
       "      <td>300775.463051</td>\n",
       "      <td>2.901876e+05</td>\n",
       "    </tr>\n",
       "  </tbody>\n",
       "</table>\n",
       "</div>"
      ],
      "text/plain": [
       "               Type   Domestic 2018  Domestic 2019 International 2018  \\\n",
       "6           Subject            2018   2.019000e+03               2018   \n",
       "8   All visitors 1/  6736736.055989   7.253806e+06          3024712.0   \n",
       "11   Pleasure (net)  5594930.890898   6.057786e+06       2633642.9517   \n",
       "12         Vacation  5369681.299388   5.833536e+06     2330693.528063   \n",
       "13        Honeymoon   228615.301854   2.260048e+05      300775.463051   \n",
       "\n",
       "    International 2019  \n",
       "6         2.019000e+03  \n",
       "8         2.989359e+06  \n",
       "11        2.619941e+06  \n",
       "12        2.327895e+06  \n",
       "13        2.901876e+05  "
      ]
     },
     "execution_count": 22,
     "metadata": {},
     "output_type": "execute_result"
    }
   ],
   "source": [
    "deduped_df_10_2019 = df_10_2019.dropna()\n",
    "deduped_df_10_2019.columns = ['Type', 'Domestic 2018', 'Domestic 2019','International 2018','International 2019']\n",
    "deduped_df_10_2019.head()"
   ]
  },
  {
   "cell_type": "code",
   "execution_count": 23,
   "metadata": {},
   "outputs": [
    {
     "name": "stdout",
     "output_type": "stream",
     "text": [
      "    Domestic 2018  Domestic 2019 International 2018  International 2019\n",
      "0  3581232.304172   3.863229e+06      2282953.81996        2.250648e+06\n",
      "1  1190791.492733   1.245480e+06      480816.011134        4.542847e+05\n",
      "2   681247.976325   6.946531e+05      161084.190767        1.587284e+05\n",
      "3    805128.55348   8.890611e+05      147929.794685        1.477591e+05\n",
      "4    87610.869913   9.458986e+04       29547.190859        2.426145e+04\n"
     ]
    }
   ],
   "source": [
    "dropped_df_10_2019 = deduped_df_10_2019.drop([6,8,11,12,13,14,15,16,17,18,19,20,21,22,23,26,27,28,32,34,36,38,39,41,42])\n",
    "ridropped_df_10_2019 = dropped_df_10_2019.reset_index(drop=True)\n",
    "final_table_10 = ridropped_df_10_2019.drop(ridropped_df_10_2019.columns[[0]],axis=1)\n",
    "print(final_table_10)"
   ]
  },
  {
   "attachments": {},
   "cell_type": "markdown",
   "metadata": {},
   "source": [
    "convert to CSV"
   ]
  },
  {
   "cell_type": "code",
   "execution_count": 24,
   "metadata": {},
   "outputs": [],
   "source": [
    "ri_filled_df_16.to_csv('stats_table16.csv', header=None, encoding = \"utf-8\")\n",
    "deduped_df_34.to_csv('stats_table34.csv',header=None, encoding = \"utf-8\")\n"
   ]
  },
  {
   "attachments": {},
   "cell_type": "markdown",
   "metadata": {},
   "source": [
    "combine dataframes concat()"
   ]
  },
  {
   "cell_type": "code",
   "execution_count": 25,
   "metadata": {},
   "outputs": [
    {
     "name": "stdout",
     "output_type": "stream",
     "text": [
      "              Type  Domestic 2020  Domestic 2021 International 2020  \\\n",
      "0            Hotel  973338.860840   3.461805e+06      441040.954235   \n",
      "1            Condo  369549.099056   1.286219e+06      106933.791697   \n",
      "2        Timeshare  188207.496859   6.757413e+05       29539.361331   \n",
      "3     Rental house  256091.399255   7.979448e+05        33250.26952   \n",
      "4  Bed & breakfast   27358.341130   6.709277e+04        6229.677459   \n",
      "\n",
      "   International 2021   Domestic 2018  Domestic 2019 International 2018  \\\n",
      "0        56871.777872  3581232.304172   3.863229e+06      2282953.81996   \n",
      "1        31549.390794  1190791.492733   1.245480e+06      480816.011134   \n",
      "2         9229.778090   681247.976325   6.946531e+05      161084.190767   \n",
      "3         7778.792477    805128.55348   8.890611e+05      147929.794685   \n",
      "4          542.133851    87610.869913   9.458986e+04       29547.190859   \n",
      "\n",
      "   International 2019  \n",
      "0        2.250648e+06  \n",
      "1        4.542847e+05  \n",
      "2        1.587284e+05  \n",
      "3        1.477591e+05  \n",
      "4        2.426145e+04  \n"
     ]
    }
   ],
   "source": [
    "table_10 = pd.concat([rwdropped_df_10,final_table_10], axis=1, join='inner',sort=True)\n",
    "print(table_10)"
   ]
  },
  {
   "cell_type": "code",
   "execution_count": 26,
   "metadata": {},
   "outputs": [],
   "source": [
    "table_10.to_csv('final_table_10.csv', encoding = \"utf-8\")\n",
    "\n"
   ]
  },
  {
   "attachments": {},
   "cell_type": "markdown",
   "metadata": {},
   "source": [
    "Table 7 concat()"
   ]
  },
  {
   "cell_type": "code",
   "execution_count": 27,
   "metadata": {},
   "outputs": [
    {
     "name": "stdout",
     "output_type": "stream",
     "text": [
      "    Area Visited      Total 2018   Domestic 2018 International 2018  \\\n",
      "0           Oahu  5862357.577556  3217740.281575      2644617.29598   \n",
      "1          Kauai  1389300.423018  1209338.377554      179962.045464   \n",
      "2           Maui  2914912.070158  2432853.608285      482058.461874   \n",
      "3        Molokai    58885.489912    42440.653487       16444.836425   \n",
      "4          Lanai    75010.305614    54310.073018       20700.232597   \n",
      "5  Hawaii Island  1706217.780855  1291109.460392      415108.320463   \n",
      "\n",
      "       Total 2019   Domestic 2019 International 2019      Total 2020  \\\n",
      "0  6154248.093969  3513070.170926     2641177.922997  1506315.659653   \n",
      "1  1370028.606504  1211259.804112      158768.802392   330262.667066   \n",
      "2  3059904.749288  2609797.643723      450107.105566   792601.693654   \n",
      "3    63034.667872    44304.320365       18730.347507    17024.986222   \n",
      "4     84102.95976    58799.108837       25303.850924    17924.022199   \n",
      "5  1763904.023422  1361151.131748      402752.891676   493817.021415   \n",
      "\n",
      "   Domestic 2020 International 2020      Total 2021   Domestic 2021  \\\n",
      "0  998148.523944      508167.135718  3326622.092527  3250595.675265   \n",
      "1  295842.755924       34419.911142    813647.31792   807657.817604   \n",
      "2  693197.320885       99404.372769  2303941.517542  2262136.950777   \n",
      "3   12998.553311        4026.432911    25758.390803    25507.857103   \n",
      "4    15488.98345        2435.038749     47829.24513    47290.640173   \n",
      "5  402529.632083       91287.389332  1183457.998357  1172729.105042   \n",
      "\n",
      "  International 2021  \n",
      "0       76026.417262  \n",
      "1        5989.500316  \n",
      "2       41804.566766  \n",
      "3           250.5337  \n",
      "4         538.604956  \n",
      "5       10728.893315  \n"
     ]
    }
   ],
   "source": [
    "table_7 = pd.concat([ridf7_2019,ridf7], axis =1,join = 'inner', sort=True)\n",
    "print(table_7)"
   ]
  },
  {
   "cell_type": "code",
   "execution_count": 28,
   "metadata": {},
   "outputs": [],
   "source": [
    "table_7.to_csv('table_7.csv', encoding = \"utf-8\")\n"
   ]
  },
  {
   "cell_type": "code",
   "execution_count": 29,
   "metadata": {},
   "outputs": [
    {
     "name": "stdout",
     "output_type": "stream",
     "text": [
      "   R  S  T\n",
      "0  2  3  4\n"
     ]
    }
   ],
   "source": [
    "#df1 = pd.DataFrame([[12,13,14]], columns=['A','B','C'])\n",
    "df1a = pd.DataFrame([[12,13,14]], columns=['R','S','T'])\n",
    "df2 = pd.DataFrame([[2,3,4]], columns=['A','B','C'])\n",
    "#pd.concat([df2, df1], axis=1)\n",
    "pd.concat([df2, df1a], axis=1)\n",
    "\n",
    "# How to reindex rows\n",
    "# How to add column headings (add a new row at index 0)\n",
    "# How to drop a column\n",
    "df2.columns = ['R','S','T']\n",
    "print(df2)"
   ]
  },
  {
   "cell_type": "code",
   "execution_count": 30,
   "metadata": {},
   "outputs": [],
   "source": [
    "# How to reindex rows\n",
    "#rwdf1 = dropped_df_10.reset_index(drop=True)\n",
    "# How to add column headings\n",
    "#rwdf1.columns = ['type','X','R','S','T']\n",
    "# How to remove a column\n",
    "#rwdf2 = rwdf1.drop(rwdf1.columns[[1]],axis=1)\n",
    "#rwdf2 = rwdf1.drop(['Unnamed: 1'],axis=1)\n",
    "#print(rwdf1.columns[[1]])\n",
    "#print(rwdf2)"
   ]
  },
  {
   "attachments": {},
   "cell_type": "markdown",
   "metadata": {},
   "source": [
    "### Excel 7.20 Length of Stay"
   ]
  },
  {
   "cell_type": "code",
   "execution_count": 31,
   "metadata": {},
   "outputs": [
    {
     "name": "stdout",
     "output_type": "stream",
     "text": [
      "      Total2020     Total2021\n",
      "0  8.249247e+05  1.646689e+06\n",
      "1  1.347321e+06  4.144625e+06\n",
      "2  4.287652e+05  8.953182e+05\n",
      "3  7.706178e+04  9.112833e+04\n",
      "4  7.469456e+00  9.636262e+00\n",
      "5  1.064825e+01  7.536350e+00\n"
     ]
    }
   ],
   "source": [
    "df_20= pd.read_excel(\"section07.xls\", sheet_name=\"07.20\", usecols= 'B,E')\n",
    "ridf_20 = df_20.reset_index(drop=True)\n",
    "deduped_df_20= df_20.dropna()\n",
    "ridf_20 = deduped_df_20.reset_index(drop=True)\n",
    "ridf_20.columns = ['Total2020', 'Total2021']\n",
    "\n",
    "print(ridf_20)"
   ]
  },
  {
   "cell_type": "code",
   "execution_count": 32,
   "metadata": {},
   "outputs": [
    {
     "name": "stdout",
     "output_type": "stream",
     "text": [
      "   Length of Stay       Total2018       Total2019\n",
      "0     1 to 6 days  3217754.841509  3553982.366434\n",
      "1    7 to 12 days  5189750.910168  5404047.055278\n",
      "2   13 to 30 days  1262487.501006  1198791.383059\n",
      "3  31 to 365 days    91454.803277    86344.219199\n",
      "4   Median (days)        7.287957        7.159104\n",
      "5     Mean (days)        8.986843        8.756319\n"
     ]
    }
   ],
   "source": [
    "df_21= pd.read_excel(\"section07.2019.xlsx\", sheet_name=\"07.21\", usecols='A:B,E')\n",
    "deduped_df_21= df_21.dropna()\n",
    "dropped_df_21 = deduped_df_21.drop([7])\n",
    "ridf_21 = dropped_df_21.reset_index(drop=True)\n",
    "ridf_21.columns = ['Length of Stay','Total2018', 'Total2019']\n",
    "print(ridf_21)"
   ]
  },
  {
   "cell_type": "code",
   "execution_count": 33,
   "metadata": {},
   "outputs": [
    {
     "name": "stdout",
     "output_type": "stream",
     "text": [
      "   Length of Stay       Total2018       Total2019     Total2020     Total2021\n",
      "0     1 to 6 days  3217754.841509  3553982.366434  8.249247e+05  1.646689e+06\n",
      "1    7 to 12 days  5189750.910168  5404047.055278  1.347321e+06  4.144625e+06\n",
      "2   13 to 30 days  1262487.501006  1198791.383059  4.287652e+05  8.953182e+05\n",
      "3  31 to 365 days    91454.803277    86344.219199  7.706178e+04  9.112833e+04\n",
      "4   Median (days)        7.287957        7.159104  7.469456e+00  9.636262e+00\n",
      "5     Mean (days)        8.986843        8.756319  1.064825e+01  7.536350e+00\n"
     ]
    }
   ],
   "source": [
    "table20 = pd.concat([ridf_21, ridf_20], axis =1,join = 'inner', sort=True)\n",
    "print(table20)\n",
    "table20.to_csv('table_20.csv', encoding = \"utf-8\")"
   ]
  },
  {
   "cell_type": "code",
   "execution_count": 34,
   "metadata": {},
   "outputs": [
    {
     "name": "stdout",
     "output_type": "stream",
     "text": [
      "                  Neighborhoods  Total Housing Units\n",
      "0                  1 Hawaii Kai              11410.0\n",
      "1         2 Kuliouou-Kalani Iki               6072.0\n",
      "2              3 Waialae-Kahala               4161.0\n",
      "3                     4 Kaimuki               6939.0\n",
      "4       5 Diamond Head/Kapahulu               9298.0\n",
      "5                      6 Palolo               4546.0\n",
      "6                       7 Manoa               7646.0\n",
      "7            8 McCully/Moiliili              14278.0\n",
      "8                     9 Waikiki              18944.0\n",
      "9            10 Makiki/Tantalus              17247.0\n",
      "10         11 Ala Moana/Kakaako              15599.0\n",
      "11          12 Nuuanu/Punchbowl               6843.0\n",
      "12                  13 Downtown               7762.0\n",
      "13           14 Liliha/Kapalama               7153.0\n",
      "14             15 Kalihi-Palama              11387.0\n",
      "15             16 Kalihi Valley               4708.0\n",
      "16                  17 Moanalua               3225.0\n",
      "17        18 Aliamanu/Salt Lake              13022.0\n",
      "18                   19 Airport               6469.0\n",
      "19                      20 Aiea              14448.0\n",
      "20                21 Pearl City              11981.0\n",
      "21                   22 Waipahu              20018.0\n",
      "22                       23 Ewa              21268.0\n",
      "23          24 Waianae Coast 2/               7918.0\n",
      "24  25 Mililani/Waipio/Melemanu              11030.0\n",
      "25                   26 Wahiawa              13928.0\n",
      "26               27 North Shore               6750.0\n",
      "27                 28 Koolauloa               4737.0\n",
      "28                   29 Kahaluu               4705.0\n",
      "29                   30 Kaneohe              12329.0\n",
      "30                    31 Kailua              13989.0\n",
      "31                 32 Waimanalo               2382.0\n",
      "32                    33 Mokapu               2902.0\n",
      "33         34 Makakilo/Kapolei/              15059.0\n",
      "34                       Valley               6499.0\n",
      "35        36 Nanakuli-Maili 2/                6136.0\n"
     ]
    }
   ],
   "source": [
    "df_2122= pd.read_excel(\"section21.xlsx\", sheet_name=\"21.22\", usecols='A:B')\n",
    "deduped_df_2122 = df_2122.dropna()\n",
    "ridf_2122 = deduped_df_2122.reset_index(drop=True)\n",
    "ridf_2122.columns = ['Neighborhoods','Total Housing Units']\n",
    "print(ridf_2122)\n",
    "\n",
    "ridf_2122.to_csv('table_2122.csv', header = None, encoding= \"utf-8\")"
   ]
  },
  {
   "cell_type": "code",
   "execution_count": 35,
   "metadata": {},
   "outputs": [
    {
     "name": "stdout",
     "output_type": "stream",
     "text": [
      "    Year Single Family  Condo\n",
      "1   2008          8842   9971\n",
      "2   2009          8384   7804\n",
      "3   2010         11073  10094\n",
      "4   2011          7626   9466\n",
      "5   2012          7544   8676\n",
      "6   2013          8068   9766\n",
      "7   2014          8075   9638\n",
      "8   2015          8227  11128\n",
      "9   2016          8239  11595\n",
      "10  2017          8340  12134\n",
      "11  2018          8632  11777\n",
      "12  2019          9187  10923\n",
      "13  2020          9518   9031\n",
      "14  2021         12048  13922\n"
     ]
    }
   ],
   "source": [
    "df_2137= pd.read_excel(\"section21.xlsx\", sheet_name=\"21.37\", usecols='A,C,D')\n",
    "deduped_df_2137 = df_2137.dropna()\n",
    "ridf_2137 = deduped_df_2137.reset_index(drop=True)\n",
    "dropped_df_2137 = ridf_2137.drop([0])\n",
    "dropped_df_2137.columns = ['Year','Single Family', 'Condo']\n",
    "print(dropped_df_2137)\n",
    "\n",
    "dropped_df_2137.to_csv('table_2137.csv', header = None, encoding= \"utf-8\")"
   ]
  },
  {
   "cell_type": "code",
   "execution_count": 36,
   "metadata": {},
   "outputs": [
    {
     "name": "stdout",
     "output_type": "stream",
     "text": [
      "  Table 7.19-- VISITOR PROFILE AND TRIP CHARACTERISTICS OF VISITORS   \\\n",
      "0                                     Characteristic                   \n",
      "1                                       First timers                   \n",
      "2                                    Repeat visitors                   \n",
      "\n",
      "   Unnamed: 1  \n",
      "0  U.S. total  \n",
      "1   23.790316  \n",
      "2   76.209684  \n"
     ]
    }
   ],
   "source": [
    "df_19= pd.read_excel(\"section07.xls\", sheet_name=\"07.19\", usecols= 'A,B')\n",
    "deduped_df_19 = df_19.dropna()\n",
    "dropped_df_19 = deduped_df_19.drop([11,12,13,14,15,17,18,19,20,21,22,23,24,25,26,27,28,29,30,31,32,33,35,36,38,49,50,51,52,53,54,55,57,58,59,60,61,62,64,65,66,67,68,69,70,71,72,73,75,76,77,78,79,80,81,82,83,84])\n",
    "ridf_19 = dropped_df_19.reset_index(drop=True)\n",
    "ridf_19_2 = ridf_19.drop([3])\n",
    "\n",
    "print(ridf_19_2)\n",
    "ridf_19_2.to_csv('table_19.csv', header = None, encoding= \"utf-8\")"
   ]
  }
 ],
 "metadata": {
  "kernelspec": {
   "display_name": "Python 3",
   "language": "python",
   "name": "python3"
  },
  "language_info": {
   "codemirror_mode": {
    "name": "ipython",
    "version": 3
   },
   "file_extension": ".py",
   "mimetype": "text/x-python",
   "name": "python",
   "nbconvert_exporter": "python",
   "pygments_lexer": "ipython3",
   "version": "3.10.7"
  },
  "orig_nbformat": 4
 },
 "nbformat": 4,
 "nbformat_minor": 2
}
